{
 "cells": [
  {
   "cell_type": "markdown",
   "metadata": {
    "colab_type": "text",
    "id": "x5n0uEjd5JR0"
   },
   "source": [
    "# Miniproject | Learning to play Pong with Deep Reinforcement Learning"
   ]
  },
  {
   "cell_type": "markdown",
   "metadata": {
    "colab_type": "text",
    "id": "dlD88ypl5JR1"
   },
   "source": [
    "![PongUrl](https://pygame-learning-environment.readthedocs.io/en/latest/_images/pong.gif \"pong\")"
   ]
  },
  {
   "cell_type": "markdown",
   "metadata": {
    "colab_type": "text",
    "id": "3U55beZz5JR2"
   },
   "source": [
    "## Introduction\n",
    "\n",
    "### Description\n",
    "\n",
    "Traditionally, reinforcement learning has operated on \"tabular\" state spaces, e.g. \"State 1\", \"State 2\", \"State 3\" etc. However, many important and interesting reinforcement learning problems (like moving robot arms or playing Atari games) are based on either continuous or very high-dimensional state spaces (like robot joint angles or pixels). Deep neural networks constitute one method for learning a value function or policy from continuous and high-dimensional observations. \n",
    "\n",
    "In this miniproject, you will teach an agent to play the game [Pong](https://pygame-learning-environment.readthedocs.io/en/latest/user/games/pong.html) from the PyGame Learning Environment. While it is possible to learn the task directly from screen pixel values as done by DQN on the Atari games, here we consider a simpler low-dimensional state space. The agent needs to control a paddle to hit a ball and drive it past it's opponent's paddle which is controlled by the computer. The state space is 7-dimensional and continuous, and consists of the following state variables:\n",
    "- player paddle's y position.\n",
    "- player paddle's velocity.\n",
    "- cpu paddle's y position.\n",
    "- ball's x position.\n",
    "- ball's y position.\n",
    "- ball's x velocity.\n",
    "- ball's y velocity.\n",
    "\n",
    "The agent can take one of two actions, accelerate up or accelerate down. The agent gets a reward of +1 when it scores a point, i.e, when it drives the ball past the computer-controlled paddle, and a reward of -1 when it loses a point. We define a game (or episode) to be over when either the agent (or the computer) scores 7 points, after which a new game is started. Because the episodes become very long once the agent learns to compete with its opponent, we stop training when the agent wins a certain number of games in a row (20 by default). You can change this parameter if you wish to further train and improve your agent.\n",
    "\n",
    "We will use Policy Gradient approaches to learn the task. In supervised learning tasks, the network generates a probability distribution over the outputs, and is trained to maximize the probability of a specific target output given an observation. In Policy Gradient methods, the network generates a probability distribution over actions, and is trained to maximize expected future rewards given an observation.\n",
    "\n",
    "You should remember that reinforcement learning is noisy! You may get different results from one trial to another, and sometimes simpler approaches will outperform more complicated ones. If you don't see any improvement, or unstable learning, double-check your model and try adjusting the learning rate.\n",
    "\n",
    "### Prerequisites\n",
    "\n",
    "- You should have set up the CS456 virtual conda environment and installed the dependencies as described in the document [Miniprojects | Environment Setup and XOR exercise](https://moodle.epfl.ch/pluginfile.php/2024974/mod_resource/content/6/env_setup.pdf) published on moodle. You should launch this notebook from this environment, i.e. using the CS456 python 3 kernel.\n",
    "- For this miniproject you will also need to install [Pygame](https://www.pygame.org/wiki/about), Pillow, and the [PyGame Learning Environment](https://pygame-learning-environment.readthedocs.io/en/latest/user/home.html). To do so, the easiest workflow to follow is:\n",
    "    - source activate ann_env\n",
    "    - pip3 install Pillow\n",
    "    - pip3 install pygame\n",
    "    - git clone https://github.com/ntasfi/PyGame-Learning-Environment\n",
    "    - cd PyGame-Learning-Environment\n",
    "    - pip3 install -e .\n",
    "\n",
    "- You should know the concepts of \"policy\", \"policy gradient\", \"REINFORCE\", \"REINFORCE with baseline\". If you want to start and haven't seen these yet in class, read Sutton & Barto (2018) Chapter 13 (13.1-13.4).\n",
    "\n",
    "### What you will learn\n",
    "\n",
    "- You will learn how to implement a policy gradient neural network using the REINFORCE algorithm.\n",
    "- You will learn how to implement baselines with a learned value network.\n",
    "- You will learn to be more patient :) Some fits may take your computer quite a bit of time; run them over night (or on an external server). If you have access to a GPU you can also use the [gpu support of tensorflow 2](https://www.tensorflow.org/install/gpu) to speed up simulations.\n",
    "\n",
    "### Notes \n",
    "- Reinforcement learning is noisy! Normally one should average over multiple random seeds with the same parameters to really see the impact of a change to the model, but we won't do this due to time constraints. However, you should be able to see learning over time with every approach. If you don't see any improvement, or very unstable learning, double-check your model and try adjusting the learning rate.\n",
    "\n",
    "### Evaluation criteria\n",
    "\n",
    "The evaluation is (mostly) based on the figures you submit and your answers to the questions. Provide clear and concise answers respecting the indicated maximum length. Keep your code tidy, organised and commented to allow us (and yourself) to understand what is going on. All plots must have axes labels as well as legends and a title where needed.\n",
    "\n",
    "**The submitted notebook must be run by you!** We will only do random tests of your code and not re-run the full notebook. There will be fraud detection sessions at the end of the semester.\n",
    "\n",
    "### Your names\n",
    "\n",
    "**Before you start**: please enter your full name(s) in the field below."
   ]
  },
  {
   "cell_type": "code",
   "execution_count": 1,
   "metadata": {
    "colab": {},
    "colab_type": "code",
    "id": "ht_tJRfV5JR3"
   },
   "outputs": [],
   "source": [
    "student1 = \"Berk Mandıracıoğlu\"\n",
    "student2 = \"Rastislav Kovac\"\n"
   ]
  },
  {
   "cell_type": "code",
   "execution_count": null,
   "metadata": {
    "colab": {},
    "colab_type": "code",
    "id": "KnyDVgQh_ljC"
   },
   "outputs": [],
   "source": []
  },
  {
   "cell_type": "code",
   "execution_count": 2,
   "metadata": {
    "colab": {
     "base_uri": "https://localhost:8080/",
     "height": 17
    },
    "colab_type": "code",
    "id": "4Eafg3Ev5JR7",
    "outputId": "edc78622-2ec2-429a-8062-452fade42d3a"
   },
   "outputs": [
    {
     "data": {
      "application/javascript": [
       "IPython.OutputArea.prototype._should_scroll = function(lines) {\n",
       "    return false;\n",
       "}\n"
      ],
      "text/plain": [
       "<IPython.core.display.Javascript object>"
      ]
     },
     "metadata": {},
     "output_type": "display_data"
    }
   ],
   "source": [
    "%%javascript\n",
    "IPython.OutputArea.prototype._should_scroll = function(lines) {\n",
    "    return false;\n",
    "}"
   ]
  },
  {
   "cell_type": "markdown",
   "metadata": {
    "colab_type": "text",
    "id": "6yx6Uj645JSA"
   },
   "source": [
    "## Setup\n",
    "\n",
    "### Dependencies and constants"
   ]
  },
  {
   "cell_type": "code",
   "execution_count": 3,
   "metadata": {
    "colab": {},
    "colab_type": "code",
    "id": "RvlouNZ15JSA"
   },
   "outputs": [],
   "source": [
    "import os\n",
    "import sys\n",
    "\"\"\"\n",
    "os.environ[\"CUDA_DEVICE_ORDER\"] = \"PCI_BUS_ID\"   # No cuda available on personal laptop\n",
    "os.environ[\"CUDA_VISIBLE_DEVICES\"] = \"\"\n",
    "\"\"\"\n",
    "os.putenv('SDL_VIDEODRIVER', 'fbcon') # settings for pygame display\n",
    "os.environ[\"SDL_VIDEODRIVER\"] = \"dummy\"\n"
   ]
  },
  {
   "cell_type": "code",
   "execution_count": 4,
   "metadata": {
    "colab": {
     "base_uri": "https://localhost:8080/",
     "height": 191
    },
    "colab_type": "code",
    "id": "_nA54CKi6Xhy",
    "outputId": "623eb78b-abcb-4d37-b099-4281b32b65c3"
   },
   "outputs": [],
   "source": [
    "#install Pong on Colab\n",
    "\n",
    "#!git clone https://github.com/ntasfi/PyGame-Learning-Environment.git\n",
    "#os.chdir('PyGame-Learning-Environment')\n",
    "#!pip install -e .\n",
    "#!pip install pygame\n",
    "#os.chdir('/content')"
   ]
  },
  {
   "cell_type": "code",
   "execution_count": 4,
   "metadata": {
    "colab": {
     "base_uri": "https://localhost:8080/",
     "height": 104
    },
    "colab_type": "code",
    "id": "uXG6yOSq5JSD",
    "outputId": "939b2b10-916f-4ff1-d778-a89bd5a07ba5"
   },
   "outputs": [
    {
     "name": "stderr",
     "output_type": "stream",
     "text": [
      "Using TensorFlow backend.\n"
     ]
    },
    {
     "name": "stdout",
     "output_type": "stream",
     "text": [
      "pygame 1.9.6\n",
      "Hello from the pygame community. https://www.pygame.org/contribute.html\n",
      "couldn't import doomish\n",
      "Couldn't import doom\n"
     ]
    }
   ],
   "source": [
    "import numpy as np\n",
    "import random\n",
    "from keras.callbacks import History \n",
    "import warnings\n",
    "warnings.filterwarnings('ignore')\n",
    "\n",
    "import keras\n",
    "import tensorflow as tf\n",
    "\n",
    "\n",
    "from keras.models import Sequential, load_model, Model\n",
    "from keras.layers import Dense,Dropout\n",
    "from keras.optimizers import Adam\n",
    "from keras import backend as K\n",
    "\n",
    "import matplotlib.pyplot as plt\n",
    "from matplotlib.animation import FuncAnimation\n",
    "from IPython.display import HTML, clear_output\n",
    "import matplotlib\n",
    "matplotlib.rcParams['animation.embed_limit'] = 2**128\n",
    "from keras.metrics import categorical_accuracy\n",
    "from ple import PLE\n",
    "from ple.games.pong import Pong\n",
    "import pygame\n"
   ]
  },
  {
   "cell_type": "markdown",
   "metadata": {
    "colab_type": "text",
    "id": "2ApsU9eA5JSG"
   },
   "source": [
    "### Game setup\n",
    "\n",
    "Here we load the Pong Reinforcement Learning environment from PLE. We limit each game (episode) to 7 points so that we can train faster.\n",
    "\n",
    "We also define a preprocessing function `process_state` that normalizes the state values to have maximum norms close to 1. Feature normalization has been seen to generally help neural networks learn faster, and is common practice in deep reinforcement learning."
   ]
  },
  {
   "cell_type": "code",
   "execution_count": 6,
   "metadata": {
    "colab": {},
    "colab_type": "code",
    "id": "ny1mU1Se5JSH"
   },
   "outputs": [],
   "source": [
    "NORMALIZE_FACTORS = np.array([48, 50, 48, 64, 48, 50, 50])\n",
    "\n",
    "def process_state(state):\n",
    "    state = np.array(list(state.values()))\n",
    "    state /= NORMALIZE_FACTORS\n",
    "    \n",
    "    return state"
   ]
  },
  {
   "cell_type": "code",
   "execution_count": 7,
   "metadata": {
    "colab": {},
    "colab_type": "code",
    "id": "8ao6-_uF5JSK"
   },
   "outputs": [],
   "source": [
    "# Setting up the game environment, refer to the PLE docs if you want to know the details\n",
    "game = Pong(MAX_SCORE=7)\n",
    "game_env = PLE(game, fps=30, display_screen=False, state_preprocessor=process_state, reward_values = {\"win\": 0, \"loss\": 0})"
   ]
  },
  {
   "cell_type": "markdown",
   "metadata": {
    "colab_type": "text",
    "id": "vtkNQsz-5JSN"
   },
   "source": [
    "### Utilities\n",
    "\n",
    "We include a function that lets you visualize an \"episode\" (i.e. a series of observations resulting from the actions that the agent took in the environment).\n",
    "\n",
    "As well, we will use the `Results` class (a wrapper around a python dictionary) to store, save, load and plot your results. You can save your results to disk with results.save('filename') and reload them with Results(filename='filename'). Use results.pop(experiment_name) to delete an old experiment."
   ]
  },
  {
   "cell_type": "code",
   "execution_count": 8,
   "metadata": {
    "colab": {},
    "colab_type": "code",
    "id": "oELJ-soz5JSO"
   },
   "outputs": [],
   "source": [
    "def render(episode):\n",
    "    \n",
    "    fig = plt.figure()\n",
    "    img = plt.imshow(np.transpose(episode[0],[1,0,2]))\n",
    "    plt.axis('off')\n",
    "\n",
    "    def animate(i):\n",
    "        img.set_data(np.transpose(episode[i],[1,0,2]))\n",
    "        return img,\n",
    "\n",
    "    anim = FuncAnimation(fig, animate, frames=len(episode), interval=24, blit=True)\n",
    "    html = HTML(anim.to_jshtml())\n",
    "    \n",
    "    plt.close(fig)\n",
    "    !rm None0000000.png\n",
    "    \n",
    "    return html\n",
    "\n",
    "\n",
    "class Results(dict):\n",
    "    \n",
    "    def __init__(self, *args, **kwargs):\n",
    "        if 'filename' in kwargs:\n",
    "            data = np.load(kwargs['filename'])\n",
    "            super(Results, self).__init__(data)\n",
    "        else:\n",
    "            super(Results, self).__init__(*args, **kwargs)\n",
    "        self.new_key = None\n",
    "        self.plot_keys = None\n",
    "        self.ylim = None\n",
    "        \n",
    "    def __setitem__(self, key, value):\n",
    "        super().__setitem__(key, value)\n",
    "        self.new_key = key\n",
    "\n",
    "    def plot(self, window):\n",
    "        clear_output(wait=True)\n",
    "        for key in self:\n",
    "            #Ensure latest results are plotted on top\n",
    "            if self.plot_keys is not None and key not in self.plot_keys:\n",
    "                continue\n",
    "            elif key == self.new_key:\n",
    "                continue\n",
    "            self.plot_smooth(key, window)\n",
    "        if self.new_key is not None:\n",
    "            self.plot_smooth(self.new_key, window)\n",
    "        plt.xlabel('Episode')\n",
    "        plt.ylabel('Reward')\n",
    "        plt.legend(loc='lower right')\n",
    "        if self.ylim is not None:\n",
    "            plt.ylim(self.ylim)\n",
    "        plt.show()\n",
    "        \n",
    "    def plot_smooth(self, key, window):\n",
    "        if len(self[key]) == 0:\n",
    "            plt.plot([], [], label=key)\n",
    "            return None\n",
    "        y = np.convolve(self[key], np.ones((window,))/window, mode='valid')\n",
    "        x = np.linspace(window/2, len(self[key]) - window/2, len(y))\n",
    "        plt.plot(x, y, label=key)\n",
    "        \n",
    "    def save(self, filename='results'):\n",
    "        np.savez(filename, **self)"
   ]
  },
  {
   "cell_type": "markdown",
   "metadata": {
    "colab_type": "text",
    "id": "hsr7sxp05JSR"
   },
   "source": [
    "### Test runs\n",
    "\n",
    "To get an idea of how the environment works, we'll plot an episode resulting from random actions at each point in time."
   ]
  },
  {
   "cell_type": "code",
   "execution_count": 9,
   "metadata": {
    "colab": {},
    "colab_type": "code",
    "id": "WJaEjCPg5JSS"
   },
   "outputs": [],
   "source": [
    "def run_fixed_episode(env, policy):\n",
    "    frames = []\n",
    "    env.reset_game()\n",
    "    done = False\n",
    "    while not done:\n",
    "        observation = env.getGameState()\n",
    "        action = policy(env, observation)\n",
    "        \n",
    "        frames.append(env.getScreenRGB())\n",
    "        reward = env.act(action)\n",
    "        done = env.game_over()\n",
    "    return frames\n",
    "    \n",
    "def random_policy(env, observation):\n",
    "\n",
    "    return random.sample(env.getActionSet(), 1)[0]"
   ]
  },
  {
   "cell_type": "markdown",
   "metadata": {
    "colab_type": "text",
    "id": "BWcrDZzD5JSa"
   },
   "source": [
    "We also define a function to run an episode with the policies that you will be training"
   ]
  },
  {
   "cell_type": "code",
   "execution_count": 11,
   "metadata": {
    "colab": {},
    "colab_type": "code",
    "id": "lGZ6ocyO5JSa"
   },
   "outputs": [],
   "source": [
    "def run_fixed_episode_learned(env, policy):\n",
    "    frames = []\n",
    "    env.reset_game()\n",
    "    done = False\n",
    "    while not done:\n",
    "        observation = env.getGameState()\n",
    "        action_idx = policy.decide(observation)\n",
    "        action = env.getActionSet()[action_idx]\n",
    "        frames.append(env.getScreenRGB())\n",
    "        reward = env.act(action)\n",
    "        done = env.game_over()\n",
    "    return frames"
   ]
  },
  {
   "cell_type": "markdown",
   "metadata": {
    "colab_type": "text",
    "id": "wPlSPPVS5JSe"
   },
   "source": [
    "## Experiment Loop\n",
    "\n",
    "This is the method we will call to setup an experiment. Reinforcement learning usually operates on an Observe-Decide-Act cycle, as you can see below.\n",
    "\n",
    "You don't need to add anything here; you will be working directly on the RL agent."
   ]
  },
  {
   "cell_type": "code",
   "execution_count": 107,
   "metadata": {
    "colab": {},
    "colab_type": "code",
    "id": "aop2uSX05JSe"
   },
   "outputs": [],
   "source": [
    "num_episodes = 5000\n",
    "\n",
    "def run_experiment(experiment_name, env, num_episodes, reward_shaping=False, \n",
    "                   policy_learning_rate=0.001, value_learning_rate = 0.001, \n",
    "                   baseline=None, fileNamePolicy=None, fileNameValue=None, verbose=False, stopping_criterion=20):\n",
    "\n",
    "    env.init()\n",
    "    discount_factor = 0.99\n",
    "    \n",
    "    #Initiate the learning agent\n",
    "    agent = RLAgent(n_obs = env.getGameStateDims()[0], policy_learning_rate = policy_learning_rate, value_learning_rate = value_learning_rate, \n",
    "                    discount=discount_factor, baseline=baseline, fileNamePolicy=fileNamePolicy, fileNameValue=fileNameValue)\n",
    "\n",
    "    rewards = []\n",
    "    all_episode_frames = []\n",
    "    \n",
    "    points_won = 0\n",
    "    games_won = 0\n",
    "    win_streak = 0\n",
    "    \n",
    "    for episode in range(1, num_episodes+1):\n",
    "    \n",
    "        #Update results plot and occasionally store an episode movie\n",
    "        episode_frames = None\n",
    "        if episode % 10 == 0:\n",
    "            results[experiment_name] = np.array(rewards)\n",
    "            results.plot(10)\n",
    "            if verbose:\n",
    "                print(\"Number of games won: \" + str(int(games_won)))\n",
    "                print(\"Number of points won: \" + str(int(points_won)))\n",
    "        if episode % 500 == 0:\n",
    "            episode_frames = []\n",
    "            \n",
    "        #Reset the environment for a new episode\n",
    "        env.reset_game()\n",
    "            \n",
    "        observation = env.getGameState()\n",
    "        \n",
    "        player_points = 0\n",
    "        opponent_points = 0\n",
    "        \n",
    "        episode_steps = 0\n",
    "        episode_reward = 0\n",
    "\n",
    "        while True:\n",
    "        \n",
    "            if episode_frames is not None:\n",
    "                episode_frames.append(env.getScreenRGB())\n",
    "            \n",
    "           \n",
    "            action_idx = agent.decide(np.array([observation]))\n",
    "            # convert action index into commands expected by the game environment\n",
    "            action = game_env.getActionSet()[action_idx]\n",
    "\n",
    "            # 2. Take action in the environment\n",
    "            raw_reward = env.act(action)\n",
    "            next_observation = env.getGameState()\n",
    "            \n",
    "            if raw_reward > 0:\n",
    "                points_won += raw_reward\n",
    "                player_points += raw_reward\n",
    "            elif raw_reward < 0:\n",
    "                opponent_points += np.abs(raw_reward)\n",
    "            \n",
    "            episode_steps += 1\n",
    "            \n",
    "            # 3. Reward shaping            \n",
    "            if reward_shaping:\n",
    "                auxiliary_reward = reward_design(observation)\n",
    "                reward = raw_reward + auxiliary_reward\n",
    "            else:\n",
    "                reward = raw_reward\n",
    "    \n",
    "            episode_reward += reward\n",
    "\n",
    "            # 4. Store the information returned from the environment for training\n",
    "            agent.observe(observation, action_idx, reward)\n",
    "\n",
    "            # 5. When we reach a terminal state (\"done\"), use the observed episode to train the network\n",
    "            done = env.game_over() # Check if game is over\n",
    "            if done:\n",
    "                rewards.append(episode_reward)\n",
    "                agent.train()\n",
    "                \n",
    "                # Some diagnostics\n",
    "                if verbose:\n",
    "                    print(\"Game score: \" + str(int(player_points)) + \"-\" + str(int(opponent_points)) + \" over \"\n",
    "                          + str(episode_steps) + \" frames\")\n",
    "                \n",
    "                # Calculating the win streak (number of consecutive games won)\n",
    "                if player_points > opponent_points:\n",
    "                    print(\"Won a game at episode \" + str(episode) + \"!\")\n",
    "                    games_won += 1\n",
    "                    win_streak += 1\n",
    "                else:\n",
    "                    win_streak = 0\n",
    "                    \n",
    "                if episode_frames is not None:\n",
    "                    all_episode_frames.append(episode_frames)                    \n",
    "                \n",
    "                break\n",
    "\n",
    "            # Reset for next step\n",
    "            observation = next_observation\n",
    "        \n",
    "        # Stop if you won enough consecutive games\n",
    "        if win_streak == stopping_criterion:\n",
    "            break\n",
    "            \n",
    "    return all_episode_frames, agent"
   ]
  },
  {
   "cell_type": "markdown",
   "metadata": {
    "colab_type": "text",
    "id": "vHtSqO785JSh"
   },
   "source": [
    "One could also think to introduce a \"shaping\" reward to encourage the agent to return the ball in the start of training. This could be done in many ways. Here is one function that achieves this by giving the agent a tiny reward for every frame that the ball is moving towards it's opponent's side."
   ]
  },
  {
   "cell_type": "code",
   "execution_count": 13,
   "metadata": {
    "colab": {},
    "colab_type": "code",
    "id": "qvoDRkIm5JSi"
   },
   "outputs": [],
   "source": [
    "def reward_design(observation):    \n",
    "    ball_vel = observation[5]\n",
    "    \n",
    "    auxiliary_reward = 0\n",
    "    if ball_vel>0:\n",
    "        auxiliary_reward = 1e-3\n",
    "    return auxiliary_reward"
   ]
  },
  {
   "cell_type": "markdown",
   "metadata": {
    "colab_type": "text",
    "id": "XCa7qwL85JSl"
   },
   "source": [
    "## The Agent\n",
    "\n",
    "Here we give the outline of a python class that will represent the reinforcement learning agent (along with its decision-making network). \n",
    "\n",
    "**Throughout the course of the miniproject you will be modifying this class to add additional methods and functionality.**"
   ]
  },
  {
   "cell_type": "code",
   "execution_count": 110,
   "metadata": {
    "colab": {},
    "colab_type": "code",
    "id": "PRw5inkk5JSm"
   },
   "outputs": [],
   "source": [
    "class RLAgent(object):\n",
    "    \n",
    "    def __init__(self, n_obs, policy_learning_rate, value_learning_rate, \n",
    "                 discount, baseline=None, fileNamePolicy=None, fileNameValue=None):\n",
    "\n",
    "        #We need the state and action dimensions to build the network\n",
    "        self.n_obs = n_obs  \n",
    "        self.n_act = 1\n",
    "        \n",
    "        self.gamma = discount\n",
    "        \n",
    "        #We need these flags to determine if the network will use baseline\n",
    "        self.use_baseline = baseline is not None\n",
    "        self.use_adaptive_baseline = baseline == 'adaptive'\n",
    "\n",
    "        #setting the learning rate for policy network\n",
    "        self.policy_learning_rate=policy_learning_rate\n",
    "\n",
    "        #setting the learning rate for value function\n",
    "        if(self.use_adaptive_baseline):\n",
    "            self.value_learning_rate = value_learning_rate\n",
    "\n",
    "        #These lists stores the observations for this episode\n",
    "        self.episode_observations, self.episode_actions, self.episode_rewards = [], [], []\n",
    "\n",
    "        #Build the keras network\n",
    "        self.fileNamePolicy = fileNamePolicy\n",
    "        self.fileNameValue = fileNameValue\n",
    "        self.policy_net, self.value_net = self._build_network()\n",
    "\n",
    "        \n",
    "    def observe(self, state, action, reward):\n",
    "        #Adding the rewards, states and the actions taken in time t\n",
    "        self.episode_observations.append(state)\n",
    "        self.episode_actions.append(action)\n",
    "        self.episode_rewards.append(reward)\n",
    "      \n",
    "     \n",
    "\n",
    "        \n",
    "\n",
    "    \n",
    "    def _get_returns(self):\n",
    "        \"\"\" This function should process self.episode_rewards and return the discounted episode returns\n",
    "            at each step in the episode, then optionally apply a baseline. Hint: work backwards.\"\"\"\n",
    "    \n",
    "\n",
    "        rewards = np.array(self.episode_rewards)\n",
    "        discounted_G = np.zeros_like(rewards)\n",
    "        Gt = 0\n",
    "        runnin_average = 0\n",
    "\n",
    "         \n",
    "        for t in reversed(range(0, rewards.size)):\n",
    "\n",
    "          #resetting the  if the episode ended\n",
    "          if  rewards[t] != 0: \n",
    "            Gt = 0 \n",
    "\n",
    "          #accumulating the returns going backwardsin the episode\n",
    "          Gt = (Gt * self.gamma) + rewards[t]\n",
    "\n",
    "          #saving the return to be used as sample weight for binary_crossentropy\n",
    "          discounted_G[t] = Gt\n",
    "\n",
    "          #if we use simple baseline we substract the running averages of the rewards observed so far\n",
    "          if(self.use_baseline):\n",
    "                if(not self.use_adaptive_baseline and t < rewards.size-1):\n",
    "                    runnin_average += (discounted_G[t+1] - runnin_average)/(rewards.size-t-1)\n",
    "                    discounted_G[t] -= runnin_average\n",
    "        \n",
    "        #normalizing the expected returns\n",
    "        discounted_G -= np.mean(discounted_G) \n",
    "        discounted_G /= np.std(discounted_G) \n",
    "        return discounted_G\n",
    "            \n",
    "            \n",
    "    \n",
    "    def _build_network(self):\n",
    "        \"\"\" This function should build the network that can then be called by decide and train. \n",
    "            The network takes observations as inputs and has a policy distribution as output.\"\"\"\n",
    "  \n",
    "        model = Sequential()\n",
    "        value_model = None\n",
    "        if(self.use_adaptive_baseline):\n",
    "            value_model = Sequential()\n",
    "            #Value model\n",
    "            #Adding 3 hidden layers with RELU activation \n",
    "            value_model.add(Dense(units=32,input_shape=(self.n_obs,), activation='relu'))\n",
    "            value_model.add(Dense(units=32, activation='relu'))\n",
    "            value_model.add(Dense(units=32, activation='relu'))\n",
    "\n",
    "            #The output of the NN is 1-dimentional which is the value of a state\n",
    "            value_model.add(Dense(units=self.n_act, activation='linear', kernel_initializer='RandomNormal'))\n",
    "            \n",
    "            #we use adaptive learning rate with decay factor so that training is more stable\n",
    "            lr_schedule = tf.keras.optimizers.schedules.ExponentialDecay(initial_learning_rate=self.value_learning_rate,\n",
    "                                                                         decay_steps=12000, decay_rate=0.92)\n",
    "            opt_val = tf.keras.optimizers.Adam(learning_rate=lr_schedule)\n",
    "\n",
    "            #Using Adam optimizer with mse loss to predict the value of a state\n",
    "            value_model.compile(loss='mse', optimizer=Adam(lr=self.value_learning_rate), metrics=['mse'])\n",
    "\n",
    "        #Policy model\n",
    "        #Adding 3 hidden layers with RELU activation \n",
    "        model.add(Dense(units=32,input_shape=(self.n_obs,), activation='relu'))\n",
    "        model.add(Dense(units=32, activation='relu'))\n",
    "        model.add(Dense(units=32, activation='relu'))\n",
    "\n",
    "        #using sigmoid function to predict which action to take\n",
    "        model.add(Dense(units=self.n_act, activation='sigmoid', kernel_initializer='RandomNormal'))\n",
    "        model.summary()\n",
    "\n",
    "        #we use adaptive learning rate with decay factor so that training is more stable\n",
    "        lr_schedule = tf.keras.optimizers.schedules.ExponentialDecay(\n",
    "          initial_learning_rate=self.policy_learning_rate,\n",
    "          decay_steps=12000,\n",
    "          decay_rate=0.92)\n",
    "        opt = tf.keras.optimizers.Adam(learning_rate=lr_schedule)\n",
    "\n",
    "        \n",
    "        #using binary_crossentropy to optimize the network and update the weigths\n",
    "        model.compile(loss='binary_crossentropy', optimizer=opt, metrics=['accuracy'])\n",
    "\n",
    "        return model, value_model\n",
    "\n",
    "        \n",
    "    def decide(self, state):\n",
    "        \"\"\" This function feeds the observed state to the network, which returns a distribution\n",
    "            over possible actions. Sample an action from the distribution and return it.\"\"\"\n",
    "      \n",
    "        #getting the probability of taking the action from policy network\n",
    "        state = state.reshape([1, self.n_obs])\n",
    "        a = self.policy_net.predict((state))\n",
    "        prob = a[0][0]\n",
    "        \n",
    "        #sampling an action with respct to this probability\n",
    "        return 1 if np.random.uniform() < prob else 0\n",
    "        \n",
    "        \n",
    "\n",
    "    def train(self):\n",
    "        \"\"\" When this function is called, the accumulated observations, actions and discounted rewards from the\n",
    "            current episode should be fed into the network and used for training. Use the _get_returns function \n",
    "            to first turn the episode rewards into discounted returns. \"\"\"\n",
    "        #state dataset that is create over the entire episode\n",
    "        x = np.array(self.episode_observations)\n",
    "        \n",
    "        #actions as target values which are observed through the episode\n",
    "        y = np.array(self.episode_actions)\n",
    "\n",
    "        #getting the discounted rewards to use it as weigt for binary_crossentropy to implement the REINFORCE algorithm\n",
    "        sample_weight = self._get_returns()\n",
    "        \n",
    "        #training the value networks if we use adaptive baseline\n",
    "        if(self.use_adaptive_baseline):\n",
    "            #Train value net first\n",
    "            self.value_net.train_on_batch(x = np.array(self.episode_observations), y=sample_weight)\n",
    "            critic_output = np.hstack(self.value_net.predict(np.array(self.episode_observations)))\n",
    "            #Using value net out as sample weight, train the policy net\n",
    "            self.policy_net.train_on_batch(x = np.array(self.episode_observations), y=self.episode_actions, sample_weight = sample_weight - critic_output)\n",
    "        else:\n",
    "            #training the policy network which is the REINFORCE algorithm\n",
    "            self.policy_net.fit(x = np.vstack(self.episode_observations), y = np.vstack(self.episode_actions), sample_weight = sample_weight,verbose=0)\n",
    "            \n",
    "       \n",
    "\n",
    "        #resetting the observation lists for the next episode\n",
    "        self.episode_observations, self.episode_actions, self.episode_rewards = [], [], []\n"
   ]
  },
  {
   "cell_type": "markdown",
   "metadata": {
    "colab_type": "text",
    "id": "7wcQqffw5JSp"
   },
   "source": [
    "## Exercise 1: REINFORCE with simple baseline\n",
    "\n",
    "Implement the REINFORCE Policy Gradient algorithm using a deep neural network as a function approximator.\n",
    "\n",
    "1. Implement the `observe` method of the RLAgent above.\n",
    "2. Implement the `_build_network` method. Your network should take the 7-dimensional state space as input and output a bernoulli distribution over the 2 discrete actions. It should have 3 hidden layers with about 32 units each with ReLU activations. Use the REINFORCE loss function. HINT: Keras has a built-in `binary_crossentropy` loss, and a `sample_weight` argument in fit/train_on_batch. Consider how these could be used together to implement the REINFORCE loss function.\n",
    "3. Implement the `decide`, `train` and `_get_returns` methods using the inputs and outputs of your network. In `_get_returns`, implement a baseline based on a moving average of the returns; it should only be in effect when the agent is constructed with the `baseline` keyword. In `train`, use `train_on_batch` to form one minibatch from all the experiences in an episode. \n",
    "4. Try a few learning rates and pick the best one (the default for Adam is a good place to start). Run the functions below and include the resulting plots, with and without the baseline, for your chosen learning rate.\n",
    "5. Answer the question in the markdown cell below in max. 1-2 sentence(s) each.\n",
    "\n",
    "WARNING: Running any experiments with the same names (first argument in run_experiment) will cause your results to be overwritten. \n",
    "\n",
    "**Mark breakdown: 8 points total**\n",
    "- 4 points for implementing and plotting basic REINFORCE with reasonable performance (i.e. a positive score).\n",
    "- 2 points for implementing and plotting the simple baseline with reasonable performance.\n",
    "- 2 points for answering the questions below."
   ]
  },
  {
   "cell_type": "markdown",
   "metadata": {
    "colab_type": "text",
    "id": "AfkkTzJN5JSq"
   },
   "source": [
    "ADDITIONAL NOTES: \n",
    "1. Positive rewards are very sparse in this task. If you're finding it hard to tell if your agent is learning at all, you have the option of giving the agent the additional \"shaping\" reward mentioned above by setting the `reward_shaping` argument to True when calling `run_experiment`. After your implementation is working, you can take off these \"training wheels\", and train only with the game rewards.\n",
    "2. Consider normalizing the calculated returns (eg., dividing by the standard deviation) before using them for training your network. This is a trick which is known to usually boost empirical performance by keeping the gradients in a smaller range.\n",
    "3. You can set the argument `verbose` to `True` (when calling `run_experiment`) to get some useful diagnostics of your agent's current performance."
   ]
  },
  {
   "cell_type": "code",
   "execution_count": 111,
   "metadata": {
    "colab": {
     "base_uri": "https://localhost:8080/",
     "height": 1000
    },
    "colab_type": "code",
    "id": "iPJxtwul5JSr",
    "outputId": "402e9b34-ebd0-44cd-cdf3-4b2c3a2ec36e"
   },
   "outputs": [
    {
     "data": {
      "image/png": "[encoded data removed]",
      "text/plain": [
       "<Figure size 432x288 with 1 Axes>"
      ]
     },
     "metadata": {
      "needs_background": "light"
     },
     "output_type": "display_data"
    },
    {
     "name": "stdout",
     "output_type": "stream",
     "text": [
      "Number of games won: 13\n",
      "Number of points won: 310\n",
      "Game score: 0-7 over 703 frames\n"
     ]
    }
   ],
   "source": [
    "results = Results()\n",
    "policy_learning_rate = 1e-4\n",
    "_, basic_reinforce_policy = run_experiment(\"REINFORCE (with reward shaping)\", game_env, num_episodes, reward_shaping=True,verbose=True,\n",
    "                                           policy_learning_rate=policy_learning_rate, stopping_criterion=30)"
   ]
  },
  {
   "cell_type": "code",
   "execution_count": 53,
   "metadata": {
    "colab": {},
    "colab_type": "code",
    "id": "Z3PgIXuz5JSt"
   },
   "outputs": [
    {
     "data": {
      "image/png": "[encoded data removed]",
      "text/plain": [
       "<Figure size 432x288 with 1 Axes>"
      ]
     },
     "metadata": {
      "needs_background": "light"
     },
     "output_type": "display_data"
    },
    {
     "name": "stdout",
     "output_type": "stream",
     "text": [
      "Number of games won: 218\n",
      "Number of points won: 2117\n",
      "Game score: 7-5 over 31646 frames\n",
      "Won a game at episode 5340!\n",
      "Game score: 7-4 over 29400 frames\n",
      "Won a game at episode 5341!\n",
      "Game score: 7-0 over 15856 frames\n",
      "Won a game at episode 5342!\n",
      "Game score: 7-2 over 25919 frames\n",
      "Won a game at episode 5343!\n",
      "Game score: 7-3 over 29739 frames\n",
      "Won a game at episode 5344!\n",
      "Game score: 7-4 over 35787 frames\n",
      "Won a game at episode 5345!\n",
      "Game score: 7-3 over 18622 frames\n",
      "Won a game at episode 5346!\n",
      "Game score: 7-4 over 31399 frames\n",
      "Won a game at episode 5347!\n",
      "Game score: 7-1 over 16860 frames\n",
      "Won a game at episode 5348!\n"
     ]
    }
   ],
   "source": [
    "\n",
    "results = Results()\n",
    "policy_learning_rate = 1e-4\n",
    "_, basic_reinforce_policy = run_experiment(\"REINFORCE\", game_env, num_episodes, reward_shaping=False,verbose=True,\n",
    "                                           policy_learning_rate=policy_learning_rate, stopping_criterion=30)\n",
    "_, baseline_reinforce_policy = run_experiment(\"REINFORCE (with baseline)\", game_env, num_episodes, reward_shaping=False,verbose=True,\n",
    "                                              policy_learning_rate=policy_learning_rate, stopping_criterion=30,\n",
    "                                              baseline='simple')"
   ]
  },
  {
   "cell_type": "code",
   "execution_count": 54,
   "metadata": {
    "colab": {},
    "colab_type": "code",
    "id": "Cc2jxXci5JSx"
   },
   "outputs": [],
   "source": [
    "# You can save intermediate results to avoid rerunning experiments\n",
    "results.save('results_exercise_1')\n",
    "\n",
    "# You can also save your learned networks (you will have to adapt this to your naming of the network modules)\n",
    "basic_reinforce_policy.policy_net.save('exercise_1_basic_reinforce_policy_net.h5')\n",
    "baseline_reinforce_policy.policy_net.save('exercise_1_baseline_reinforce_policy_net.h5')"
   ]
  },
  {
   "cell_type": "markdown",
   "metadata": {
    "colab_type": "text",
    "id": "fFOWmOOG5JS2"
   },
   "source": [
    "**Question 1**: Why is it better to sample an action from the bernoulli distribution rather than just pick the action with highest probability? \n",
    "\n",
    "**Answer**: If we would always chose to take the action which has the highest probability, there would be no space for exploration. So there's a possibility we would miss out on an action which would lead us to higher cumulative reward."
   ]
  },
  {
   "cell_type": "markdown",
   "metadata": {
    "colab_type": "text",
    "id": "b2eiuh055JS3"
   },
   "source": [
    "**Question 2**: In the train method above we throw away the data from an episode after we use it to train the network (make sure that you do that). Why is it not a good idea to keep the old episodes in our data and train the policy network on both old and new data? (Note: Reusing data can still be possible but requires modifications to the REINFORCE algorithm we are using).\n",
    "\n",
    "**Answer**: It is not a good idea to reuse old episodes to train because REINFORCE is an on-policy method where we are iteratively upgrading (training) the policy so the episode should be sampled with the most recent policy. "
   ]
  },
  {
   "cell_type": "markdown",
   "metadata": {
    "colab_type": "text",
    "id": "o_owjKDk5JS3"
   },
   "source": [
    "**Question 3**: In the reward_design function above, we give the agent a positive reward of 0.001 for every frame that the ball is moving in the favorable direction. One may think that such a manipulation will change the optimal policy in a way that the agent tries to maximize the length of each episode instead of necessarily winning the most points. Why is this not case? Can you give a general criteria for the maximum amount of this positive reward such that the optimal policy does not change?\n",
    "\n",
    "**Answer**:\n",
    "Let's assume that one episode has infinite number of frames. Then in this case the summed up auxiliary rewards must be less than 1, the reward for winning a game. We can calculate the max auxiliary reward using geometric series. We sum to infinity (lambda ^ t) * aux_reward = aux_reward / 1 - lamdba < 1.\n",
    "\n",
    "Therefore the aux_reward can be at most 0.1. This is bellow given auxiliary reward of 1e-3."
   ]
  },
  {
   "cell_type": "markdown",
   "metadata": {
    "colab_type": "text",
    "id": "hM6sdN_G5JS4"
   },
   "source": [
    "**Question 4**: Suppose a third action was available (eg. the `DO NOTHING` action that is actually available in this environment but we have excluded for this miniproject). What modifications would you need to make to your implementation to handle this possibility?\n",
    "\n",
    "**Answer**: First, we would have to change the number of neurons of the ouput layer to 3. Second, we would have to change the activation function in the output layer to 'softmax', so that the ouput would sum up to 1, Third, we would have to change our decide function to chose from 3 probabilities. Last, we would have to change the y input in the training and implement instead one hot encoding of all the actions taken during an episode."
   ]
  },
  {
   "cell_type": "markdown",
   "metadata": {
    "colab_type": "text",
    "id": "0o7fKpiw5JS4"
   },
   "source": [
    "## Exercise 2: Adaptive baseline\n",
    "\n",
    "Add a second neural network to your model that learns an observation-dependent adaptive baseline and subtracts it from your discounted returns.\n",
    "\n",
    "1. Modify the `_build_network` function of RLAgent to create a second \"value network\" when `adaptive` is passed for the baseline argument. The value network should have the same or similar structure as the policy network, without the sigmoid at the output.\n",
    "3. In addition to training your policy network, train the value network on the Mean-Squared Error compared to the adjusted returns.\n",
    "4. Train your policy network on R - b(s), i.e. the returns minus the adaptive baseline (the output of the value network). Your implementation should allow for a different learning rate for the value and policy network.\n",
    "5. Try a few learning rates and plot all your best results together (without baseline, with simple baseline, with adaptive baseline). You may or may not be able to improve on the simple baseline! Return the trained model to use it in the next exercise.\n",
    "\n",
    "TECHNICAL NOTE: Some textbooks may refer to this approach as \"Actor-Critic\", where the policy network is the \"Actor\" and the value network is the \"Critic\". Sutton and Barto (2018) suggest that Actor-Critic only applies when the discounted returns are bootstrapped from the value network output, as you saw in class. This can introduce instability in learning that needs to be addressed with more advanced techniques, so we won't use it for this miniproject. You can read more about state-of-the-art Actor-Critic approaches here: https://arxiv.org/pdf/1602.01783.pdf\n",
    "\n",
    "**Mark breakdown: 3 points total**\n",
    "- 3 points for implementing and plotting the adaptive baseline with the other two conditions, with reasonable performance (i.e. at least similar to the performance in Exercise 1)."
   ]
  },
  {
   "cell_type": "code",
   "execution_count": 65,
   "metadata": {
    "colab": {},
    "colab_type": "code",
    "id": "EvDZML3v5JS5"
   },
   "outputs": [
    {
     "data": {
      "image/png": "[encoded data removed]",
      "text/plain": [
       "<Figure size 432x288 with 1 Axes>"
      ]
     },
     "metadata": {
      "needs_background": "light"
     },
     "output_type": "display_data"
    },
    {
     "name": "stdout",
     "output_type": "stream",
     "text": [
      "Number of games won: 150\n",
      "Number of points won: 1613\n",
      "Game score: 7-3 over 28264 frames\n",
      "Won a game at episode 1600!\n",
      "Game score: 7-4 over 30810 frames\n",
      "Won a game at episode 1601!\n",
      "Game score: 7-0 over 14052 frames\n",
      "Won a game at episode 1602!\n",
      "Game score: 7-4 over 24344 frames\n",
      "Won a game at episode 1603!\n",
      "Game score: 7-4 over 29406 frames\n",
      "Won a game at episode 1604!\n",
      "Game score: 7-2 over 19505 frames\n",
      "Won a game at episode 1605!\n",
      "Game score: 7-3 over 20254 frames\n",
      "Won a game at episode 1606!\n",
      "Game score: 7-2 over 27914 frames\n",
      "Won a game at episode 1607!\n",
      "Game score: 7-6 over 28992 frames\n",
      "Won a game at episode 1608!\n"
     ]
    }
   ],
   "source": [
    "results = Results()\n",
    "policy_learning_rate = 1e-3\n",
    "value_learning_rate = 1e-3\n",
    "\n",
    "\n",
    "_, adaptive_policy = run_experiment(\"REINFORCE (adaptive baseline)\", game_env, num_episodes, reward_shaping=False,verbose=True,\n",
    "                                    policy_learning_rate=policy_learning_rate, \n",
    "                                    value_learning_rate=value_learning_rate, stopping_criterion=30,\n",
    "                                    baseline='adaptive')"
   ]
  },
  {
   "cell_type": "code",
   "execution_count": 66,
   "metadata": {
    "colab": {},
    "colab_type": "code",
    "id": "a7GTwC6f5JS7"
   },
   "outputs": [],
   "source": [
    "results.save('results_exercise_2')\n",
    "adaptive_policy.policy_net.save('exercise_2_policy_net.h5')\n",
    "adaptive_policy.value_net.save('exercise_2_value_net.h5')"
   ]
  },
  {
   "cell_type": "code",
   "execution_count": 199,
   "metadata": {},
   "outputs": [
    {
     "data": {
      "image/png": "[encoded data removed]",
      "text/plain": [
       "<Figure size 432x288 with 1 Axes>"
      ]
     },
     "metadata": {
      "needs_background": "light"
     },
     "output_type": "display_data"
    },
    {
     "data": {
      "image/png": "[encoded data removed]",
      "text/plain": [
       "<IPython.core.display.Image object>"
      ]
     },
     "execution_count": 199,
     "metadata": {},
     "output_type": "execute_result"
    }
   ],
   "source": [
    "#-------------------Question 2.4-------------------------#\n",
    "#-------------------Compare plots------------------------#\n",
    "import matplotlib.image as mpimg\n",
    "from IPython.display import Image\n",
    "\n",
    "result_test = Results()\n",
    "result_test['REINFORCE - Simple Baseline'] = np.array(exercise_1)\n",
    "result_test['REINFORCE - Adaptive Baseline'] = np.array(exercise_2)\n",
    "result_test.plot(10)\n",
    "\n",
    "\n",
    "Image(filename='data.png') "
   ]
  },
  {
   "cell_type": "markdown",
   "metadata": {},
   "source": [
    "**Observations**\n",
    "\n",
    "First we compare the REINFORCE algorithm with simple baseline REINFORCE as shown in the bottom picture.\n",
    "As we can observe, the baseline took less episodes to learn. However, since we provide rewards only when a game is won, when we actually start to learn is arbitrary. Our agent only tries to move randomly, hoping to score a point. Therefore, the number of episodes needed for the curve to rise can range variously. As we found out, sometimes it took 5000 episodes to learn, sometimes only 2000. However, when we look at the steepness of the two curves, the baseline indeed helps us to learn faster.\n",
    "\n",
    "Second, looking at the first plot, adaptive baseline helped with faster learning, because it has bigger steepness. Interestingly, for the Adaptive baseline, the variance after it started scoring is higher then the other curves. This is because the learning rate is higher than for the rest of the alhorithms. The other algorithms had problems with converging with lower learning rate but the Adaptive baselive converged every time with lower learning rate.\n",
    "\n",
    "We conlude that using adaptive baseline is truly helpful with the speed of the convergence."
   ]
  },
  {
   "cell_type": "markdown",
   "metadata": {
    "colab_type": "text",
    "id": "nNwHdkjQ5JTA"
   },
   "source": [
    "## Exercise 3: Value Function Visualization\n",
    "\n",
    "Ideally, our value network should have learned to predict the relative values across the input space. We can test this by plotting the value prediction for different observations.\n",
    "\n",
    "1. Write a function to plot the value network prediction across [x,y] space (all possible ball positions) for given (constant) values of the other state variables. All the position state variables always lie in [0,1], with the agent on the left side of the screen (i.e, at X=0 with Y=0.5 being its middle position). (`plt.imshow`, `plt.title` and `plt.colorbar` can be useful)\n",
    "2. Plot (with titles specifying the state variable combinations) the values for 5-6 combinations of the other 5 state variables. The ball and player velocities are generally within [-1,1] but could lie outside this range. Use the same color bar limits across the graphs so that they can be compared easily. \n",
    "3. Answer the question in the markdown cell below in max. 2-3 sentence(s) each.\n",
    "\n",
    "**Mark breakdown: 3 points total**\n",
    "- 2 points for the plots of the value function.\n",
    "- 1 point for answering the question below."
   ]
  },
  {
   "cell_type": "code",
   "execution_count": 11,
   "metadata": {
    "colab": {},
    "colab_type": "code",
    "id": "602f1hpg5JTA"
   },
   "outputs": [],
   "source": [
    "#-------------------Question 3.1-------------------------#\n",
    "# Order of the variables\n",
    "#agent y position.\n",
    "#agent velocity.\n",
    "#cpu y position.\n",
    "#ball x position.\n",
    "#ball y position.\n",
    "#ball x velocity.\n",
    "#ball y velocity.\n",
    "def plot_value_predtictions(agent_position = 0, agent_velocity = 0, cpu_position = 0, ball_x_velocity = 0, ball_y_velocity = 0):\n",
    "    all_x_positions = np.linspace(0, 1, 100)\n",
    "    all_y_positions = np.linspace(0, 1, 100)\n",
    "    \n",
    "    #Load the model\n",
    "    model_value = load_model('exercise_2_value_net.h5')\n",
    "    image = []\n",
    "    for y in all_y_positions:\n",
    "        horizontal_line = []\n",
    "        for x in all_x_positions:\n",
    "            #State\n",
    "            state = [agent_position, agent_velocity, cpu_position, x, y, ball_x_velocity, ball_y_velocity]\n",
    "            horizontal_line.append(model_value.predict(np.array([state])[0:1])[0][0])\n",
    "        image.append(horizontal_line)\n",
    "    image = np.flip(image,0)\n",
    "    return image"
   ]
  },
  {
   "cell_type": "code",
   "execution_count": 10,
   "metadata": {},
   "outputs": [
    {
     "data": {
      "text/plain": [
       "0.53286326"
      ]
     },
     "execution_count": 10,
     "metadata": {},
     "output_type": "execute_result"
    }
   ],
   "source": [
    "model_value = load_model('exercise_2_value_net.h5')\n",
    "states = np.array([[0.5, -0.5, 0.5, 0.0, 0.0, -0.5, -0.5], #initial state\n",
    "                   [0.5, 0.5, 0.2, 0.0, 0.0, -0.8, 0.5], #the ball is coming towards us and we move towards it\n",
    "                   [0.8, -0.8, 0.2, 0.0, 0.0, -0.8, 0.5],#the ball is coming towards us and we move in the opposite direction\n",
    "                   [0.2, -0.1, 0.7, 0.0, 0.0, 0.7, 0.2], #the balls is moving towards the adversary and he is in a favorable position \n",
    "                   [0.9, 0.2, 0.2, 0.0, 0.0, 0.5, 0.5], #the balls is moving towards the adversary and he is in a not favorable position \n",
    "                   ])\n",
    "\n",
    "model_value.predict(np.array([[0.5, -0.5, 0.5, 0.8, 0.8, -0.5, -0.5]]))[0][0]"
   ]
  },
  {
   "cell_type": "code",
   "execution_count": 16,
   "metadata": {
    "colab": {},
    "colab_type": "code",
    "id": "zdpWnB62-CKY"
   },
   "outputs": [
    {
     "data": {
      "image/png": "[encoded data removed]",
      "text/plain": [
       "<Figure size 1080x864 with 12 Axes>"
      ]
     },
     "metadata": {
      "needs_background": "light"
     },
     "output_type": "display_data"
    }
   ],
   "source": [
    "#-------------------Question 3.2-------------------------#\n",
    "#-------------Static values------------------------------#\n",
    "\n",
    "agent_positions = [0.9,0.9,0.2,0.1,0.8,1]\n",
    "agent_velocities = [0.5,-0.5,-0.8,0.2,-1,0.9]\n",
    "cpu_positions = [0.5,0.5,0.2,0.1,0.8,1]\n",
    "ball_x_velocities = [-0.8,-0.8,0.8,-0.75,0.9,-0.5]\n",
    "ball_y_velocities = [-0.8,-0.8,-0.2,1,0.9,-0.9]\n",
    "\n",
    "yticks = [0,0.2,0.4,0.6,0.8,1]\n",
    "\n",
    "#----------Plotting-----------\n",
    "fig, ax = plt.subplots(3,2, figsize=(15, 12))\n",
    "axs = ax.ravel()\n",
    "for i in range(6):\n",
    "    img = axs[i].imshow(plot_value_predtictions(agent_positions[i], agent_velocities[i], cpu_positions[i], ball_x_velocities[i], ball_y_velocities[i]), extent=[0,1,0,1])\n",
    "    #set limit\n",
    "    img.set_clim(-0.3, 0.6)\n",
    "    fig.colorbar(img, ax=axs[i])\n",
    "    axs[i].set_title(\"Plot \" + str(i + 1) + \"\\nAgent position: \" + str(agent_positions[i]) + \" Agent velocity: \" + str(agent_velocities[i]) + \" CPU position: \" + str(cpu_positions[i]) + \"\\n X-axis ball velocity: \" + str(ball_x_velocities[i]) + \" Y-axis ball velocity: \" + str(ball_y_velocities[i]))\n",
    "    axs[i].set_xlabel('X coordinates', fontsize=10)\n",
    "    axs[i].set_ylabel('Y coordinates', fontsize=10)\n",
    "    axs[i].set_yticklabels(yticks[::-1])\n",
    "    \n",
    "fig.tight_layout()\n"
   ]
  },
  {
   "cell_type": "markdown",
   "metadata": {
    "colab_type": "text",
    "id": "p8BnDAcQ5JTE"
   },
   "source": [
    "**Question 1**: Does your value map make sense for cases where the paddle is moving towards where the ball is going to be? How about when it is moving away from the ball's expected position? Why or why not?\n",
    "\n",
    "**Answer**: The first two plots are exactly have exactly the same state values except the agent velocity which indicates the direction of the agent. In the first plot, the agent is going away from the ball and the plot has more negative values. In the second plot, agent is going to the direction of the ball and this plot has much more positive values than the first plot. So the value function makes sense and indeed the agent has more chance to win when it is going towards the ball."
   ]
  },
  {
   "cell_type": "markdown",
   "metadata": {
    "colab_type": "text",
    "id": "Vttb-QQI5JTF"
   },
   "source": [
    "**Question 2**: It is likely that your value network learns a reasonable value map for some regimes of the state-space while for other combinations of state values, the value map makes little intuitive sense. What could be the reason why some regions are better learned by your network?\n",
    "\n",
    "**Answer**: As we found out, there are different cases of the states our network learns. Plot 3 and Plot 6 represent intuitive states. In plot 3, we can observe concentration of high valued states in the corner. This is expected since lot of points have been most likely won in the corner, i.e. the ball ricocheted from the wall, making an unexpected change of direction and scoring a point. Similar can be seen in plot 6, where the high-valued states are on the top wall next to the corner.\n",
    "\n",
    "However, plot 4 and 5 are not that clear. We can suppose that this happens because it concerns state which do not happen that often. No clear stategy can be read from the number 5, and from plot number 4, it seems like our agent is not able to catch the ball, even if it is near it."
   ]
  },
  {
   "cell_type": "code",
   "execution_count": null,
   "metadata": {},
   "outputs": [],
   "source": []
  }
 ],
 "metadata": {
  "accelerator": "GPU",
  "colab": {
   "collapsed_sections": [],
   "name": "miniproject_rl_pongyyyy(1).ipynb",
   "provenance": []
  },
  "kernelspec": {
   "display_name": "Python 3",
   "language": "python",
   "name": "python3"
  },
  "language_info": {
   "codemirror_mode": {
    "name": "ipython",
    "version": 3
   },
   "file_extension": ".py",
   "mimetype": "text/x-python",
   "name": "python",
   "nbconvert_exporter": "python",
   "pygments_lexer": "ipython3",
   "version": "3.7.1"
  }
 },
 "nbformat": 4,
 "nbformat_minor": 1
}
